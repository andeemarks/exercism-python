{
 "cells": [
  {
   "cell_type": "code",
   "execution_count": 15,
   "id": "b332b6b6-1a27-49c6-800b-dfab9ef5a972",
   "metadata": {
    "tags": []
   },
   "outputs": [
    {
     "data": {
      "text/plain": [
       "Pclass\n",
       "1    216\n",
       "2    184\n",
       "3    491\n",
       "Name: Pclass, dtype: int64"
      ]
     },
     "execution_count": 15,
     "metadata": {},
     "output_type": "execute_result"
    }
   ],
   "source": [
    "import pandas as pd\n",
    "\n",
    "titanic = pd.read_csv(\"data/titanic.csv\")\n",
    "titanic.head()\n",
    "\n",
    "titanic[\"Age\"].mean()\n",
    "titanic[\"Age\"].head().mean()\n",
    "titanic[[\"Age\", \"Fare\"]].median()\n",
    "titanic[[\"Age\", \"Fare\"]].describe()\n",
    "\n",
    "titanic.agg({\"Age\": [\"min\", \"max\", \"median\", \"skew\"],\n",
    "             \"Fare\": [\"min\", \"max\", \"median\", \"mean\"],})\n",
    "\n",
    "titanic[[\"Sex\", \"Age\"]].groupby(\"Sex\").mean()\n",
    "\n",
    "titanic.groupby(\"Sex\").mean(numeric_only=True)\n",
    "\n",
    "titanic.groupby(\"Sex\")[\"Age\"].mean()\n",
    "\n",
    "titanic.groupby([\"Sex\", \"Pclass\"])[\"Fare\"].mean()\n",
    "\n",
    "titanic.groupby(\"Pclass\")[\"Pclass\"].count()"
   ]
  }
 ],
 "metadata": {
  "kernelspec": {
   "display_name": "Python 3 (ipykernel)",
   "language": "python",
   "name": "python3"
  },
  "language_info": {
   "codemirror_mode": {
    "name": "ipython",
    "version": 3
   },
   "file_extension": ".py",
   "mimetype": "text/x-python",
   "name": "python",
   "nbconvert_exporter": "python",
   "pygments_lexer": "ipython3",
   "version": "3.11.5"
  }
 },
 "nbformat": 4,
 "nbformat_minor": 5
}
